{
  "nbformat": 4,
  "nbformat_minor": 0,
  "metadata": {
    "colab": {
      "name": "DescriptorSv",
      "provenance": []
    },
    "kernelspec": {
      "name": "python3",
      "display_name": "Python 3"
    }
  },
  "cells": [
    {
      "cell_type": "code",
      "metadata": {
        "id": "cpKxk-eO46Vk"
      },
      "source": [
        "import numpy as np              \n",
        "from time import time\n",
        "import os\n",
        "from os import listdir\n",
        "import cv2\n",
        "import scipy.linalg as sg\n",
        "import matplotlib.pyplot as plt\n",
        "%matplotlib inline\n",
        "from PIL import Image \n",
        "from math import sqrt\n",
        "from shutil import copy2 as copy"
      ],
      "execution_count": null,
      "outputs": []
    },
    {
      "cell_type": "code",
      "metadata": {
        "id": "KhtjTV9L5CWQ"
      },
      "source": [
        "from google.colab import drive\n",
        "drive.mount('/content/drive')"
      ],
      "execution_count": null,
      "outputs": []
    },
    {
      "cell_type": "markdown",
      "metadata": {
        "id": "zd-nHYnr5GAc"
      },
      "source": [
        "# Funciones"
      ]
    },
    {
      "cell_type": "code",
      "metadata": {
        "id": "2O90HnlR5CY3"
      },
      "source": [
        "def integral(ch):\n",
        "    s=ch\n",
        "    for i in range(ch.ndim):\n",
        "        s=s.cumsum(axis = i)\n",
        "        \n",
        "    return s"
      ],
      "execution_count": null,
      "outputs": []
    },
    {
      "cell_type": "code",
      "metadata": {
        "id": "Rc5-lZIC5CbX"
      },
      "source": [
        "def pintar(cov):\n",
        "    new_cov=np.copy(cov)\n",
        "    for i in range(cov.shape[1]):\n",
        "        for j in range(cov.shape[0]):\n",
        "            if(new_cov[i,j]<=0):\n",
        "                new_cov[i,j]=-1*(new_cov[i,j]/np.min(cov))\n",
        "            else:\n",
        "                new_cov[i,j]=new_cov[i,j]/np.max(cov)\n",
        "    return new_cov"
      ],
      "execution_count": null,
      "outputs": []
    },
    {
      "cell_type": "code",
      "metadata": {
        "id": "ugO1w7Kg5CgB"
      },
      "source": [
        "def tr_text(dir):\n",
        "    temp=''\n",
        "    with open(dir) as fp:  \n",
        "        line = fp.readline()\n",
        "        cnt = 1\n",
        "        while line:\n",
        "            line = fp.readline()\n",
        "            temp= temp+line[:-1]\n",
        "            cnt += 1\n",
        "    return(temp)"
      ],
      "execution_count": null,
      "outputs": []
    },
    {
      "cell_type": "code",
      "metadata": {
        "id": "T1KqJ-pn5CjE"
      },
      "source": [
        "def dirr_carps(url):\n",
        "    list_elements_1,list_elements_2=[],[]\n",
        "    for carp in listdir(url):\n",
        "        list_elements_1.append(url+carp)\n",
        "        list_elements_2.append(carp)\n",
        "    return sorted(list_elements_1),sorted(list_elements_2)"
      ],
      "execution_count": null,
      "outputs": []
    },
    {
      "cell_type": "code",
      "metadata": {
        "id": "w6ubgUBc5Cm9"
      },
      "source": [
        "def pintar(cov):\n",
        "    new_cov=np.copy(cov)\n",
        "    for i in range(cov.shape[1]):\n",
        "        for j in range(cov.shape[0]):\n",
        "            if(new_cov[i,j]<=0):\n",
        "                new_cov[i,j]=-1*(new_cov[i,j]/np.min(cov))\n",
        "            else:\n",
        "                new_cov[i,j]=new_cov[i,j]/np.max(cov)\n",
        "    return new_cov"
      ],
      "execution_count": null,
      "outputs": []
    },
    {
      "cell_type": "code",
      "metadata": {
        "id": "DJ6T1v805Crc"
      },
      "source": [
        "def cortar(x):\n",
        "    #x = trayectorias en texto            \n",
        "    tr=[]\n",
        "    gtr=[]\n",
        "    count = 0\n",
        "    n = 0\n",
        "    for i in range(0,len(x)):\n",
        "        if(x[i]==' '):\n",
        "            count=count+1\n",
        "            tr.append(float(x[n:i]))\n",
        "            n=i\n",
        "        if(count==34):\n",
        "            gtr.append(tr)\n",
        "            count=0\n",
        "            tr=[]\n",
        "    return gtr"
      ],
      "execution_count": null,
      "outputs": []
    },
    {
      "cell_type": "code",
      "metadata": {
        "id": "cHCqxH3q5Cpn"
      },
      "source": [
        "def int_great_array_renew(convimg,frame):\n",
        "    ch_array=np.array([convimg[0],convimg[1],convimg[2],convimg[3],convimg[4],convimg[5],convimg[6],convimg[7],convimg[8],convimg[9],convimg[10],convimg[11],convimg[12],convimg[13],convimg[14],convimg[15],convimg[16]])#,convimg[17]])#,convimg[18],convimg[19]])#,convimg[20],convimg[21],convimg[22],convimg[23],convimg[24],convimg[25],convimg[26],convimg[27],convimg[28],convimg[29],convimg[30],convimg[31],convimg[32],convimg[33],convimg[34],convimg[35],convimg[36],convimg[37],convimg[38],convimg[39],convimg[40],convimg[41],convimg[42],convimg[43],convimg[44],convimg[45],convimg[46],convimg[47],convimg[48]])#,convimg[49],convimg[50],convimg[51],convimg[52],convimg[53],convimg[54],convimg[55],convimg[56],convimg[57],convimg[58],convimg[59],convimg[60],convimg[61],convimg[62],convimg[63]])\n",
        "    d=ch_array.shape[0]\n",
        "    W=ch_array.shape[1]\n",
        "    H=ch_array.shape[2]\n",
        "    #print(d,W,H)\n",
        "    #Tensor P\n",
        "    tensor_p=np.zeros((d,W,H))\n",
        "    for i in range(d):\n",
        "        tensor_p[i]= integral(ch_array[i])\n",
        "        \n",
        "    #Tensor Q    \n",
        "    nmatrices=((d * (d + 1)) / 2 )\n",
        "    tensor_q=np.zeros((int(nmatrices),W,H))              \n",
        "    pos=0\n",
        "    for i in range(d):\n",
        "        for j in range(i,d):\n",
        "            mult=ch_array[i]*ch_array[j]\n",
        "                                 #producto elemento a elemento entre tipos arrays\n",
        "            #np.save('/content/drive/My Drive/BIVL2AB/Analisis de movimiento y vision por computador/Project/mobilnetfeatures/TensoresT/frame'+str(frame)+'_'+str(pos)+'q',integral(mult))\n",
        "            tensor_q[pos]=integral(mult)\n",
        "            pos=pos+1\n",
        "       \n",
        "    \n",
        "    return ch_array,tensor_p,tensor_q"
      ],
      "execution_count": null,
      "outputs": []
    },
    {
      "cell_type": "code",
      "metadata": {
        "id": "rNaeQ5ay5UoZ"
      },
      "source": [
        "def covariance(great_p,great_q,T_area):\n",
        "    \n",
        "    n_frames = great_p.shape[0]\n",
        "    d = great_p.shape[1]\n",
        "    m_cov=np.zeros((d,d))\n",
        "    pos = 0\n",
        "    y1=T_area[0][0]\n",
        "    x1=T_area[0][1]\n",
        "    y2=T_area[0][2]\n",
        "    x2=T_area[0][3]\n",
        "    col=x2-x1\n",
        "    fil=y2-y1\n",
        "    n1=(1/(((fil)*(col))*n_frames-1))\n",
        "    n2=(1/((fil)*(col)*n_frames))\n",
        "    \n",
        "    try:\n",
        "      for i in range(d):\n",
        "          #print(i)\n",
        "          for j in range(i,d):\n",
        "                  p_1=0\n",
        "                  p_2=0\n",
        "                  q=0\n",
        "                  #print(pos)\n",
        "                  for k in range(n_frames):\n",
        "                      \n",
        "                      y1=T_area[k][0]-1\n",
        "                      x1=T_area[k][1]-1\n",
        "                      y2=T_area[k][2]\n",
        "                      x2=T_area[k][3]\n",
        "                      \n",
        "                      #temp_q=np.loadtxt('/content/drive/My Drive/BIVL2AB/Analisis de movimiento y vision por computador/Project/mobilnetfeatures/TensoresT/frame'+str(great_q[k])+'_'+str(pos)+'q')\n",
        "                      #q=temp_q[y1,x1]+temp_q[y2,x2]-temp_q[y1,x2]-temp_q[y2,x1]+q\n",
        "                      q=great_q[k,0,pos]+great_q[k,1,pos]-great_q[k,2,pos]-great_q[k,3,pos]+q\n",
        "\n",
        "                      #p_1=great_p[k,0,i]+great_p[k,1,i]-great_p[k,2,i]-great_p[k,3,i]+p_1\n",
        "                      #p_2=great_p[k,0,j]+great_p[k,1,j]-great_p[k,2,j]-great_p[k,3,j]+p_2\n",
        "\n",
        "                      #q=temp_q[pos,y1,x1]+temp_q[pos,y2,x2]-temp_q[pos,y1,x2]-temp_q[pos,y2,x1]+q            \n",
        "                      #p_1=temp_p[i,y1,x1]+temp_p[i,y2,x2]-temp_p[i,y1,x2]-temp_p[i,y2,x1]+p_1\n",
        "                      #p_2=temp_p[j,y1,x1]+temp_p[j,y2,x2]-temp_p[j,y1,x2]-temp_p[j,y2,x1]+p_2\n",
        "\n",
        "\n",
        "                      #q=great_q[k,pos,y1,x1]+great_q[k,pos,y2,x2]-great_q[k,pos,y1,x2]-great_q[k,pos,y2,x1]+q\n",
        "                      p_1=great_p[k,i,y1,x1]+great_p[k,i,y2,x2]-great_p[k,i,y1,x2]-great_p[k,i,y2,x1]+p_1\n",
        "                      p_2=great_p[k,j,y1,x1]+great_p[k,j,y2,x2]-great_p[k,j,y1,x2]-great_p[k,j,y2,x1]+p_2\n",
        "                      \n",
        "                  pos=pos+1\n",
        "                  m_cov[i,j]=(n1)*(q-(n2*p_1*p_2))\n",
        "                  \n",
        "                  if(i!=j):\n",
        "                      m_cov[j,i]=m_cov[i,j]\n",
        "      flag = 1\n",
        "    except:\n",
        "      flag = None\n",
        "      m_cov = np.zeros((d,d))\n",
        "    \n",
        "    return m_cov,flag"
      ],
      "execution_count": null,
      "outputs": []
    },
    {
      "cell_type": "code",
      "metadata": {
        "id": "SzBfk0_a5Uqp"
      },
      "source": [
        "def covarianza(Tensor,area):\n",
        "  trayectorias,frames,c,d,e=Tensor.shape\n",
        "  col=area*2\n",
        "  fil=area*2\n",
        "  n1=(1/(((fil)*(col))*frames-1))\n",
        "  n2=(1/((fil)*(col)*frames))\n",
        "  Covarianzas=[]\n",
        "  for i in range(trayectorias):\n",
        "    #m_cov=np.zeros((d,d))\n",
        "    p_1 = np.sum(Tensor[i,:,:,:,0],axis=0)\n",
        "    p_2 = np.sum(Tensor[i,:,:,:,1],axis=0)\n",
        "    q = np.sum(Tensor[i,:,:,:,2],axis=0)\n",
        "    m_cov=(n1)*(q-(n2*p_1*p_2))\n",
        "    Covarianzas.append(m_cov)\n",
        "\n",
        "  return Covarianzas"
      ],
      "execution_count": null,
      "outputs": []
    },
    {
      "cell_type": "code",
      "metadata": {
        "id": "RZ_iMb-35Us7"
      },
      "source": [
        "def Tensor_covarianza(great_q,great_p,T_area,Tensor):\n",
        "    #T_area tiene como argumentos una 4-tupla con y1,x1,y2,x2 y por ultimo j, que es el numero de la trayectoria.\n",
        "    #great_q es mi tensor q recien cargado\n",
        "    #great_p es el tensor p que tengo en memoria\n",
        "    d = great_p.shape[0]\n",
        "    m_cov=np.zeros((d,d))\n",
        "    pos = 0\n",
        "    y1=T_area[0][0][0]\n",
        "    x1=T_area[0][0][1]\n",
        "    y2=T_area[0][0][2]\n",
        "    x2=T_area[0][0][3]\n",
        "    col=x2-x1\n",
        "    fil=y2-y1\n",
        "\n",
        "    for k in range(len(T_area)):\n",
        "      y1=T_area[k][0][0]\n",
        "      x1=T_area[k][0][1]\n",
        "      y2=T_area[k][0][2]\n",
        "      x2=T_area[k][0][3]\n",
        "      trayectoria=T_area[k][1][0]\n",
        "      frame=T_area[k][1][1]-1\n",
        "      pos = 0\n",
        "      \n",
        "      for i in range(d):\n",
        "        for j in range(i,d):\n",
        "            \n",
        "            q=great_q[pos,y1,x1]+great_q[pos,y2,x2]-great_q[pos,y1,x2]-great_q[pos,y2,x1] \n",
        "            p_1=great_p[i,y1,x1]+great_p[i,y2,x2]-great_p[i,y1,x2]-great_p[i,y2,x1]\n",
        "            p_2=great_p[j,y1,x1]+great_p[j,y2,x2]-great_p[j,y1,x2]-great_p[j,y2,x1]      \n",
        "            \n",
        "            pos=pos+1\n",
        "            Tensor[trayectoria,frame,i,j,0]=q\n",
        "            Tensor[trayectoria,frame,i,j,1]=p_1\n",
        "            Tensor[trayectoria,frame,i,j,2]=p_2\n",
        "            if(i!=j):\n",
        "              Tensor[trayectoria,frame,j,i,:]=Tensor[trayectoria,frame,i,j,:]       \n",
        "    \n",
        "    return Tensor"
      ],
      "execution_count": null,
      "outputs": []
    },
    {
      "cell_type": "code",
      "metadata": {
        "id": "dgy_UktH5Uww"
      },
      "source": [
        "def video_covs(path,trayectorias,area,path2):\n",
        "    feat,f,great_p,great_q,Q=[],[],[],[],[]\n",
        "    Covarianzas=[]\n",
        "    images = [path+image for image in os.listdir(path)]\n",
        "    n_images = len(images)\n",
        "\n",
        "    if isinstance(sqrt(n_images)%1,float):limits = int(sqrt(n_images))+1 \n",
        "    else:limits = int(sqrt(n_images))  \n",
        "    for i,image in enumerate(images):\n",
        "        im = Image.open(image)\n",
        "        b='/home/oskkr/BIV2LAB/parkinsonfeatures/PK-ojos/'+path2+'/frame'+str(i+1)+'.npy'\n",
        "    \n",
        "        feat.append(b)\n",
        "             \n",
        "        x,p,q=int_great_array_renew(np.load(feat[i]),i+1)\n",
        "        #p=np.load('/content/drive/My Drive/BIVL2AB/Analisis de movimiento y vision por computador/Project/mobilnetfeatures/TensoresT/frame'+str(i+1)+'p.npy')\n",
        "        #great_p.append(p)\n",
        "        \n",
        "        np.save('/home/oskkr/BIV2LAB/TensoresT/frame'+str(i+1)+'q',q)\n",
        "        np.save('/home/oskkr/BIV2LAB/TensoresT/frame'+str(i+1)+'p',p)\n",
        "        \n",
        "    gc.collect()\n",
        "    great_p=np.load('/home/oskkr/BIV2LAB/TensoresT/frame'+str(1)+'p.npy')\n",
        "    d=great_p.shape[0]\n",
        "    limy=great_p.shape[1]\n",
        "    limx=great_p.shape[2]\n",
        "    tr_list=cortar(trayectorias)\n",
        "    nro=len(tr_list)  \n",
        "    nro2=n_images*2\n",
        "    Tensor=np.zeros((nro,n_images,d,d,3))\n",
        "    tr_matrix=np.zeros((nro,nro2))\n",
        "    x,y=tr_matrix.shape\n",
        "    \n",
        "    for i in range(0,x):\n",
        "        k=2\n",
        "        for j in range(int((tr_list[i][0]*2)),int(tr_list[i][1]*2)):\n",
        "            tr_matrix[i][j]=tr_list[i][k]\n",
        "            k=k+1\n",
        "    #Obtengo mi matriz de trayectorias segun el caso\n",
        "    for i in range(x):\n",
        "      for j in range(0,y,2):\n",
        "        if(tr_matrix[i][j]==0):pass\n",
        "        else:\n",
        "          if(tr_matrix[i,j]-area<=0 or tr_matrix[i,j]+area>=(limy-1)):\n",
        "            tr_matrix[i,:]=np.zeros((tr_matrix[i].shape))\n",
        "            break\n",
        "          elif(tr_matrix[i,j+1]-area<=0 or tr_matrix[i,j+1]+area>=(limx-1)):\n",
        "            tr_matrix[i,:]=np.zeros((tr_matrix[i].shape))\n",
        "            break\n",
        "\n",
        "    list_cov=[]\n",
        "    for i in range(0,nro2,2):\n",
        "        T_area=[]\n",
        "        temp=int(i/2)+1\n",
        "        for j in range(nro):\n",
        "            if(tr_matrix[j,i]==0.):pass\n",
        "            else:\n",
        "                temp_area=[]\n",
        "                nros=[]\n",
        "                nros.append(j)\n",
        "                nros.append(temp)\n",
        "                y1=int(round(tr_matrix[j][i])-area)\n",
        "                y2=int(round(tr_matrix[j][i])+area)\n",
        "                x1=int(round(tr_matrix[j][i+1])-area)\n",
        "                x2=int(round(tr_matrix[j][i+1])+area)\n",
        "                temp_area.append(y1)\n",
        "                temp_area.append(x1)\n",
        "                temp_area.append(y2)\n",
        "                temp_area.append(x2)\n",
        "\n",
        "                T_area.append((temp_area,nros))\n",
        "        great_p=np.load('/home/oskkr/BIV2LAB/TensoresT/frame'+str(temp)+'p.npy')\n",
        "        great_q=np.load('/home/oskkr/BIV2LAB/TensoresT/frame'+str(temp)+'q.npy')    \n",
        "        if(len(T_area)==0):pass\n",
        "        else:\n",
        "            Tensor=Tensor_covarianza(np.r_[great_q],np.r_[great_p],T_area,Tensor)\n",
        "      \n",
        "    #np.save('/content/drive/My Drive/BIVL2AB/Analisis de movimiento y vision por computador/Project/mobilnetfeatures/TensoresT2/SuperTensor',Tensor) \n",
        "    Covarianzas=covarianza(Tensor,area)\n",
        "\n",
        "    return Covarianzas"
      ],
      "execution_count": null,
      "outputs": []
    },
    {
      "cell_type": "markdown",
      "metadata": {
        "id": "m-G6j38G6Q1U"
      },
      "source": [
        "## Parkinson"
      ]
    },
    {
      "cell_type": "code",
      "metadata": {
        "id": "NnNnfPx85UvI"
      },
      "source": [
        "import gc\n",
        "from tqdm import tqdm\n",
        "list_elements1,list_elements2=dirr_carps('/home/oskkr/BIV2LAB/Datasets/Parkinson/Trajectories/Ojos-PK-TrF/')\n",
        "area=40\n",
        "Tensor='/home/oskkr/BIV2LAB/TensoresT/'\n",
        "path='/home/oskkr/BIV2LAB/FramesTemp/'"
      ],
      "execution_count": null,
      "outputs": []
    },
    {
      "cell_type": "code",
      "metadata": {
        "id": "7v-eKsFB6Sso"
      },
      "source": [
        "for i in tqdm(range(10,13)):#len(list_elements1))):\n",
        "    trayectorias=tr_text(list_elements1[i])\n",
        "    path2=list_elements2[i][:-6]\n",
        "    #print(path)\n",
        "    #Eliminando frames de la carpeta \n",
        "    folder = path \n",
        "\n",
        "    for the_file in os.listdir(folder): \n",
        "        file_path = os.path.join(folder, the_file) \n",
        "        try: \n",
        "            if os.path.isfile(file_path): \n",
        "                os.unlink(file_path) \n",
        "         #elif os.path.isdir(file_path): shutil.rmtree(file_path) \n",
        "        except Exception as e: \n",
        "            print(e)\n",
        "    #Eliminando Tensores anteriores        \n",
        "    folder=Tensor\n",
        "\n",
        "    for the_file in os.listdir(folder): \n",
        "      file_path = os.path.join(folder, the_file) \n",
        "      try: \n",
        "          if os.path.isfile(file_path): \n",
        "              os.unlink(file_path) \n",
        "        #elif os.path.isdir(file_path): shutil.rmtree(file_path) \n",
        "      except Exception as e: \n",
        "          print(e)\n",
        "\n",
        "    #print('flag')\n",
        "    \n",
        "    #Obteniendo frames        \n",
        "    print(list_elements2[i][:-6])\n",
        "    vidcap = cv2.VideoCapture('/home/oskkr/BIV2LAB/Datasets/Parkinson/PK-ojos/'+list_elements2[i][:-6]+'.avi')\n",
        "    success,image = vidcap.read()\n",
        "    count = 1\n",
        "    success = True\n",
        "    while success:\n",
        "        cv2.imwrite(\"/home/oskkr/BIV2LAB/FramesTemp/frame%d.jpg\" % count, image)     # save frame as JPEG file      \n",
        "        success,image = vidcap.read()\n",
        "        #print('Read a new frame: ', success)\n",
        "        count += 1\n",
        "        \n",
        "    \n",
        "    gc.collect()\n",
        "    #Extrayendo covarianzas    \n",
        "    covs=video_covs(path,trayectorias,area,path2)\n",
        "    #np.save('/content/drive/My Drive/BIVL2AB/Analisis de movimiento y vision por computador/Project/mobilnetfeatures/covarianzas/supertest',covs)\n",
        "    np.save('/content/drive/My Drive/BIVL2AB/Analisis de movimiento y vision por computador/Project/parkinsonfeatures/TrajectoryCov/'+str(list_elements2[i][:-4]),covs)\n",
        "    gc.collect()"
      ],
      "execution_count": null,
      "outputs": []
    },
    {
      "cell_type": "code",
      "metadata": {
        "id": "W3iWvcTx6S5v"
      },
      "source": [
        ""
      ],
      "execution_count": null,
      "outputs": []
    }
  ]
}